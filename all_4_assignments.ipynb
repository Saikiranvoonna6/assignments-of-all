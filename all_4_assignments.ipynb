{
  "nbformat": 4,
  "nbformat_minor": 0,
  "metadata": {
    "colab": {
      "name": "all 4 assignments.ipynb",
      "provenance": []
    },
    "kernelspec": {
      "name": "python3",
      "display_name": "Python 3"
    },
    "language_info": {
      "name": "python"
    }
  },
  "cells": [
    {
      "cell_type": "markdown",
      "source": [
        "*name - voonna saikiran*"
      ],
      "metadata": {
        "id": "ALx4_FcwBQkE"
      }
    },
    {
      "cell_type": "markdown",
      "source": [
        "assignment -1"
      ],
      "metadata": {
        "id": "f6bP3MofBSn3"
      }
    },
    {
      "cell_type": "markdown",
      "source": [
        "if we want to check directly like (list_1 > list_2) then we need to give only one datatype values like string,integers"
      ],
      "metadata": {
        "id": "0GyOiOBLBVuI"
      }
    },
    {
      "cell_type": "code",
      "source": [
        "list_1 = [1,2,3,4,5]\n",
        "list_2 = [3,4,5,6,7,8,6]\n",
        "print(list_1 > list_2)\n",
        "print(list_1 < list_2)\n",
        "print(list_1 == list_2)\n",
        "print(list_1 != list_2)\n",
        "print(list_1 <= list_2)\n",
        "print(list_1 >= list_2)"
      ],
      "metadata": {
        "colab": {
          "base_uri": "https://localhost:8080/"
        },
        "id": "O5o-2vSaBaBb",
        "outputId": "bb8b5b5b-7865-458d-e1a4-8df131999258"
      },
      "execution_count": 1,
      "outputs": [
        {
          "output_type": "stream",
          "name": "stdout",
          "text": [
            "False\n",
            "True\n",
            "False\n",
            "True\n",
            "True\n",
            "False\n"
          ]
        }
      ]
    },
    {
      "cell_type": "code",
      "source": [
        "tuple_1 = (\"sai\",\"is\",\"a\",\"good\",\"boy\")\n",
        "tuple_2 = (\"he\",\"plays\",\"cricket\",5,8)\n",
        "x = len(tuple_1)\n",
        "y = len(tuple_2)\n",
        "print(x>y)\n",
        "print(x<y)\n",
        "print(x<=y)\n",
        "print(x>=y)\n",
        "print(x==y)\n",
        "print(x!=y)"
      ],
      "metadata": {
        "colab": {
          "base_uri": "https://localhost:8080/"
        },
        "id": "aauIjX8YBr7l",
        "outputId": "4e7a19b3-eeba-4c40-a7fe-cc2f975d9a33"
      },
      "execution_count": 2,
      "outputs": [
        {
          "output_type": "stream",
          "name": "stdout",
          "text": [
            "False\n",
            "False\n",
            "True\n",
            "True\n",
            "True\n",
            "False\n"
          ]
        }
      ]
    },
    {
      "cell_type": "code",
      "source": [
        "set_1 = {5,6,7,8,9,\"sai\",\"kiran\"}\n",
        "set_2 = {5,6,7,8,9,10,12}\n",
        "x = len(set_1)\n",
        "y = len(set_2)\n",
        "print(set_1 == set_2)\n",
        "print(set_1 > set_2)\n",
        "print(set_1 < set_2)\n",
        "print(set_1 >= set_2)\n",
        "print(set_1 <= set_2)\n",
        "print(set_1 != set_2)"
      ],
      "metadata": {
        "colab": {
          "base_uri": "https://localhost:8080/"
        },
        "id": "iqBgIgp9Bxg1",
        "outputId": "dc72b012-02a5-4bc7-87e9-c9d6d41f4026"
      },
      "execution_count": 3,
      "outputs": [
        {
          "output_type": "stream",
          "name": "stdout",
          "text": [
            "False\n",
            "False\n",
            "False\n",
            "False\n",
            "False\n",
            "True\n"
          ]
        }
      ]
    },
    {
      "cell_type": "markdown",
      "source": [
        "from above 2 code sets u can easily understand by observing the outputs"
      ],
      "metadata": {
        "id": "nmPIZZ4_B6w-"
      }
    },
    {
      "cell_type": "code",
      "source": [
        "dict_1 ={\"sai\":18,\"dilli\":19}\n",
        "dict_2 ={\"kumar\":20,\"revanth\":17}\n",
        "x = len(dict_1)\n",
        "y = len(dict_2)\n",
        "print(x == y)\n",
        "print(x > y)\n",
        "print(x < y)\n",
        "print(x >= y)\n",
        "print(x <= y)\n",
        "print(x != y)"
      ],
      "metadata": {
        "colab": {
          "base_uri": "https://localhost:8080/"
        },
        "id": "qxUnADhaB2Px",
        "outputId": "11da9ecc-64f0-4e00-d0b3-e6779cb80579"
      },
      "execution_count": 4,
      "outputs": [
        {
          "output_type": "stream",
          "name": "stdout",
          "text": [
            "True\n",
            "False\n",
            "False\n",
            "True\n",
            "True\n",
            "False\n"
          ]
        }
      ]
    },
    {
      "cell_type": "markdown",
      "source": [
        "assignment_2"
      ],
      "metadata": {
        "id": "HqoEicXmCEQI"
      }
    },
    {
      "cell_type": "code",
      "source": [
        "num_1 = int(input(\"enter the 1st number : \"))\n",
        "num_2 = int(input(\"enter the 2nd number : \"))\n",
        "operator = input(\"enter what you want to do with the 2 numbers : \")\n",
        "if(operator == '+') :\n",
        "  print(\"the sum of 2 numbers is : \",num_1 + num_2)\n",
        "elif(operator == '-') :\n",
        "  print(\"the subtraction of 2 numbers is : \",num_1 - num_2)\n",
        "elif(operator == '*'):\n",
        "  print(\"the multiplication of 2 numbers is :\",num_1 * num_2)\n",
        "elif(operator == '/'):\n",
        "  print(\"the division of 2 numbers is : \",num_1 / num_2)\n",
        "else:\n",
        "  print(\"please give valid operator like + ,-,*,/\")"
      ],
      "metadata": {
        "colab": {
          "base_uri": "https://localhost:8080/"
        },
        "id": "2fZZlbPlCFDd",
        "outputId": "ca153ad5-2e7c-4e33-ff5f-e1f216bb85a0"
      },
      "execution_count": 5,
      "outputs": [
        {
          "output_type": "stream",
          "name": "stdout",
          "text": [
            "enter the 1st number : 10\n",
            "enter the 2nd number : 20\n",
            "enter what you want to do with the 2 numbers : *\n",
            "the multiplication of 2 numbers is : 200\n"
          ]
        }
      ]
    },
    {
      "cell_type": "markdown",
      "source": [
        "assignment_3\n"
      ],
      "metadata": {
        "id": "qAN2pxz7CUqA"
      }
    },
    {
      "cell_type": "markdown",
      "source": [
        "\n",
        "\"r\" is for only reading the file .where as \"r+\" is for reading and writing the file."
      ],
      "metadata": {
        "id": "PhcZdS9hCvZi"
      }
    },
    {
      "cell_type": "code",
      "source": [
        "f = open(\"myfile.txt\",\"r\")\n",
        "print(f.read())\n",
        "f.close()"
      ],
      "metadata": {
        "colab": {
          "base_uri": "https://localhost:8080/"
        },
        "id": "iYpzSsuPCWFY",
        "outputId": "1f1349c8-0a7d-410d-856d-8d0cb550faed"
      },
      "execution_count": 8,
      "outputs": [
        {
          "output_type": "stream",
          "name": "stdout",
          "text": [
            "voonna saikiran is a good boy\n",
            "he is 18 year old\n",
            "he loves to play cricket\n"
          ]
        }
      ]
    },
    {
      "cell_type": "code",
      "source": [
        "f = open(\"myfile.txt\",\"r+\")\n",
        "print(f.write(\"his friends are dilli and revanth\"))\n",
        "f.close()"
      ],
      "metadata": {
        "colab": {
          "base_uri": "https://localhost:8080/"
        },
        "id": "8ciTWLuHCzpy",
        "outputId": "b57a647b-e005-4271-c3c2-5e70ca4d0a17"
      },
      "execution_count": 10,
      "outputs": [
        {
          "output_type": "stream",
          "name": "stdout",
          "text": [
            "33\n"
          ]
        }
      ]
    },
    {
      "cell_type": "markdown",
      "source": [
        "now you can see that by using \"r+\".the data can change in the below code"
      ],
      "metadata": {
        "id": "E1q4kxn-DOI-"
      }
    },
    {
      "cell_type": "code",
      "source": [
        "f = open(\"myfile.txt\",\"r\")\n",
        "print(f.read())\n",
        "f.close()"
      ],
      "metadata": {
        "colab": {
          "base_uri": "https://localhost:8080/"
        },
        "id": "80tuuaCNDO1P",
        "outputId": "5966a83d-4807-4ed9-da44-f83199fc6e6c"
      },
      "execution_count": 11,
      "outputs": [
        {
          "output_type": "stream",
          "name": "stdout",
          "text": [
            "his friends are dilli and revanth is 18 year old\n",
            "he loves to play cricket\n"
          ]
        }
      ]
    },
    {
      "cell_type": "markdown",
      "source": [
        "*\"w\" is for only open a file for writing only.where as \"w+\" is for Open a file for both writing and reading*"
      ],
      "metadata": {
        "id": "HUVd6B8XDcG4"
      }
    },
    {
      "cell_type": "code",
      "source": [
        "f = open(\"myfile.txt\",\"w+\")\n",
        "print(f.write(\"we are friends for 7 years\"))\n",
        "f.close()"
      ],
      "metadata": {
        "colab": {
          "base_uri": "https://localhost:8080/"
        },
        "id": "YefIKJG8Df5Q",
        "outputId": "1810cf1b-c447-4fad-bd71-e8ef70b01a29"
      },
      "execution_count": 12,
      "outputs": [
        {
          "output_type": "stream",
          "name": "stdout",
          "text": [
            "26\n"
          ]
        }
      ]
    },
    {
      "cell_type": "code",
      "source": [
        "f = open(\"myfile.txt\",\"w+\")\n",
        "print(f.read())\n",
        "f.close()"
      ],
      "metadata": {
        "colab": {
          "base_uri": "https://localhost:8080/"
        },
        "id": "6u6YaDwkDmVL",
        "outputId": "54c6900e-6cd3-46f1-e199-d9061f897e99"
      },
      "execution_count": 13,
      "outputs": [
        {
          "output_type": "stream",
          "name": "stdout",
          "text": [
            "\n"
          ]
        }
      ]
    },
    {
      "cell_type": "code",
      "source": [
        "f = open(\"myfile.txt\",\"a\")\n",
        "print(f.write(\" and we will continue as life long\"))\n",
        "f.close()"
      ],
      "metadata": {
        "colab": {
          "base_uri": "https://localhost:8080/"
        },
        "id": "OBARsYNADqHG",
        "outputId": "1e897503-25e5-4f26-d559-ec7de21d96ea"
      },
      "execution_count": 14,
      "outputs": [
        {
          "output_type": "stream",
          "name": "stdout",
          "text": [
            "34\n"
          ]
        }
      ]
    },
    {
      "cell_type": "code",
      "source": [
        "f = open(\"myfile.txt\",\"a+\")\n",
        "print(f.read())\n",
        "f.close()"
      ],
      "metadata": {
        "colab": {
          "base_uri": "https://localhost:8080/"
        },
        "id": "o9rPZa-zDrfM",
        "outputId": "ff1f00a8-6b9d-41b9-9d68-955a60b22014"
      },
      "execution_count": 15,
      "outputs": [
        {
          "output_type": "stream",
          "name": "stdout",
          "text": [
            "\n"
          ]
        }
      ]
    },
    {
      "cell_type": "markdown",
      "source": [
        "assignment 4\n"
      ],
      "metadata": {
        "id": "GQuXDnh8D3P8"
      }
    },
    {
      "cell_type": "code",
      "source": [
        "prime_numbers = [11, 3, 7, 5, 2]\n",
        "prime_numbers.sort()\n",
        "print(prime_numbers)"
      ],
      "metadata": {
        "colab": {
          "base_uri": "https://localhost:8080/"
        },
        "id": "k3a7rYqOD6VN",
        "outputId": "85e0b4c7-3a60-4e54-9c7c-c8efcc7d34db"
      },
      "execution_count": 16,
      "outputs": [
        {
          "output_type": "stream",
          "name": "stdout",
          "text": [
            "[2, 3, 5, 7, 11]\n"
          ]
        }
      ]
    },
    {
      "cell_type": "code",
      "source": [
        "prime_numbers = [11, 3, 7, 5, 2]\n",
        "prime_numbers.sort(reverse=True)\n",
        "print(prime_numbers)"
      ],
      "metadata": {
        "colab": {
          "base_uri": "https://localhost:8080/"
        },
        "id": "sBXubz66GAZf",
        "outputId": "bfd9ae46-8a5c-479e-f107-902d7cf66356"
      },
      "execution_count": 19,
      "outputs": [
        {
          "output_type": "stream",
          "name": "stdout",
          "text": [
            "[11, 7, 5, 3, 2]\n"
          ]
        }
      ]
    }
  ]
}